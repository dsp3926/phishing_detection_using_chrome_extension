{
  "nbformat": 4,
  "nbformat_minor": 0,
  "metadata": {
    "colab": {
      "name": "Algo.ipynb",
      "provenance": []
    },
    "kernelspec": {
      "name": "python3",
      "display_name": "Python 3"
    },
    "language_info": {
      "name": "python"
    }
  },
  "cells": [
    {
      "cell_type": "code",
      "metadata": {
        "colab": {
          "base_uri": "https://localhost:8080/"
        },
        "id": "edlQ5mUy5Kc_",
        "outputId": "5f2406a1-4a08-459a-e8fe-065396e5a7ea"
      },
      "source": [
        "import pandas as pd\n",
        "import sklearn\n",
        "import numpy as np\n",
        "from sklearn import svm\n",
        "from sklearn.model_selection import train_test_split\n",
        "from sklearn.metrics import confusion_matrix\n",
        "from sklearn import metrics\n",
        "from sklearn.metrics import classification_report,confusion_matrix\n",
        "from sklearn.neural_network import MLPClassifier\n",
        "from sklearn.ensemble import RandomForestClassifier\n",
        "from sklearn import svm\n",
        "from sklearn.metrics import confusion_matrix\n",
        "from sklearn.preprocessing import StandardScaler\n",
        "\n",
        "sc = StandardScaler()\n",
        "\n",
        "def calc(y_test, y_predict):\n",
        "    conf_mat = confusion_matrix(y_test,y_predict)\n",
        "    print(\"True Positive\\tFalse Positive \\tFalse Negative\\tTrue Negative\")\n",
        "    for i in range(conf_mat.shape[0]):\n",
        "        TP = round(float(conf_mat[i,i]),2) \n",
        "        FP = round(float(conf_mat[:,i].sum()),2) - TP \n",
        "        FN = round(float(conf_mat[i,:].sum()),2) - TP \n",
        "        TN = round(float(conf_mat.sum().sum()),2) - TP - FP - FN\n",
        "    print(str(TP)+\"\\t\\t\"+str(FP)+\"\\t\\t\"+str(FN)+\"\\t\\t\"+str(TN))\n",
        "\n",
        "\n",
        "#load data\n",
        "#31 features\n",
        "X = pd.read_csv('C.csv')\n",
        "Y = pd.read_csv('R.csv')\n",
        "\n",
        "#split train and test data in ration 7:3\n",
        "X_train, X_test, y_train, y_test = train_test_split(X, Y, test_size=0.2, random_state = 40)\n",
        "\n",
        "print(\"SVM Accuracy: \")\n",
        "model_1 = svm.SVC(kernel='linear',C=3.0)\n",
        "model_1.fit(X_train,np.ravel(y_train))\n",
        "y_predict = model_1.predict(X_test)\n",
        "accuracy = metrics.accuracy_score(y_test,y_predict)\n",
        "calc(y_test,y_predict)\n",
        "print(\"accuracy= \",accuracy)\n",
        "print(model_1.coef_)\n",
        "\n",
        "\n",
        "print(\"\\nNeural Network Accuracy: \")\n",
        "model_2 = MLPClassifier(hidden_layer_sizes=(100), activation='logistic',random_state = 42)\n",
        "model_2.fit(X_train,np.ravel(y_train))\n",
        "y_predict = model_2.predict(X_test)\n",
        "accuracy = metrics.accuracy_score(y_test,y_predict)\n",
        "calc(y_test,y_predict)\n",
        "print(\"accuracy= \",accuracy)\n",
        "\n",
        "\n",
        "print(\"\\nRandom Forest Accuracy: \")\n",
        "model_3 = RandomForestClassifier(max_depth=5, n_estimators=10, max_features=1)\n",
        "model_3.fit(X_train,np.ravel(y_train))\n",
        "y_predict = model_3.predict(X_test)\n",
        "accuracy = metrics.accuracy_score(y_test,y_predict)\n",
        "calc(y_test,y_predict)\n",
        "print(\"accuracy= \",accuracy)\n",
        "print(model_3.feature_importances_)\n",
        "\n",
        "\n",
        "\n",
        "\n",
        "\n",
        "#print(model.coef_)"
      ],
      "execution_count": null,
      "outputs": [
        {
          "output_type": "stream",
          "text": [
            "SVM Accuracy: \n",
            "True Positive\tFalse Positive \tFalse Negative\tTrue Negative\n",
            "1140.0\t\t158.0\t\t101.0\t\t812.0\n",
            "accuracy=  0.882858435097241\n",
            "[[ 0.29140903 -0.08272586 -0.72969851  0.10492972  0.47924222  2.31353698\n",
            "   0.49953743 -0.27273309 -0.04159056  0.29137892  2.62675847  0.70850427\n",
            "   0.50071374  0.12451573  0.1044904  -0.06092436]]\n",
            "\n",
            "Neural Network Accuracy: \n",
            "True Positive\tFalse Positive \tFalse Negative\tTrue Negative\n",
            "1155.0\t\t120.0\t\t86.0\t\t850.0\n",
            "accuracy=  0.9068294889190411\n",
            "\n",
            "Random Forest Accuracy: \n",
            "True Positive\tFalse Positive \tFalse Negative\tTrue Negative\n",
            "1211.0\t\t244.0\t\t30.0\t\t726.0\n",
            "accuracy=  0.8760741745816373\n",
            "[0.02367516 0.00661152 0.01300963 0.01101585 0.02965067 0.1358173\n",
            " 0.09358667 0.00670228 0.01465101 0.115251   0.42121053 0.05764973\n",
            " 0.03982207 0.01135877 0.01596493 0.00402286]\n"
          ],
          "name": "stdout"
        },
        {
          "output_type": "stream",
          "text": [
            "/usr/local/lib/python3.7/dist-packages/sklearn/neural_network/_multilayer_perceptron.py:571: ConvergenceWarning: Stochastic Optimizer: Maximum iterations (200) reached and the optimization hasn't converged yet.\n",
            "  % self.max_iter, ConvergenceWarning)\n"
          ],
          "name": "stderr"
        }
      ]
    }
  ]
}